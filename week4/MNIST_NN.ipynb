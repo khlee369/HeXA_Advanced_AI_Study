{
 "cells": [
  {
   "cell_type": "markdown",
   "metadata": {},
   "source": [
    "# MNIST data load"
   ]
  },
  {
   "cell_type": "code",
   "execution_count": 1,
   "metadata": {},
   "outputs": [],
   "source": [
    "from pathlib import Path\n",
    "import requests\n",
    "\n",
    "DATA_PATH = Path(\"data\")\n",
    "PATH = DATA_PATH / \"mnist\"\n",
    "\n",
    "PATH.mkdir(parents=True, exist_ok=True)\n",
    "\n",
    "URL = \"https://github.com/pytorch/tutorials/raw/master/_static/\"\n",
    "FILENAME = \"mnist.pkl.gz\"\n",
    "\n",
    "if not (PATH / FILENAME).exists():\n",
    "        content = requests.get(URL + FILENAME).content\n",
    "        (PATH / FILENAME).open(\"wb\").write(content)"
   ]
  },
  {
   "cell_type": "code",
   "execution_count": 2,
   "metadata": {},
   "outputs": [],
   "source": [
    "import pickle\n",
    "import gzip\n",
    "\n",
    "with gzip.open((PATH / FILENAME).as_posix(), \"rb\") as f:\n",
    "        ((x_train, y_train), (x_valid, y_valid), _) = pickle.load(f, encoding=\"latin-1\")"
   ]
  },
  {
   "cell_type": "code",
   "execution_count": 3,
   "metadata": {},
   "outputs": [
    {
     "name": "stdout",
     "output_type": "stream",
     "text": [
      "(50000, 784)\n"
     ]
    },
    {
     "data": {
      "image/png": "[encoded data removed]",
      "text/plain": [
       "<Figure size 432x288 with 1 Axes>"
      ]
     },
     "metadata": {
      "needs_background": "light"
     },
     "output_type": "display_data"
    }
   ],
   "source": [
    "from matplotlib import pyplot\n",
    "import numpy as np\n",
    "\n",
    "pyplot.imshow(x_train[0].reshape((28, 28)), cmap=\"gray\")\n",
    "print(x_train.shape)"
   ]
  },
  {
   "cell_type": "code",
   "execution_count": 4,
   "metadata": {},
   "outputs": [
    {
     "data": {
      "text/plain": [
       "array([5, 0, 4, ..., 8, 4, 8], dtype=int64)"
      ]
     },
     "execution_count": 4,
     "metadata": {},
     "output_type": "execute_result"
    }
   ],
   "source": [
    "y_train"
   ]
  },
  {
   "cell_type": "markdown",
   "metadata": {},
   "source": [
    "# model, Fully Connected Layer"
   ]
  },
  {
   "cell_type": "code",
   "execution_count": 5,
   "metadata": {},
   "outputs": [],
   "source": [
    "import torch\n",
    "import torch.nn as nn\n",
    "import torch.nn.functional as F"
   ]
  },
  {
   "cell_type": "code",
   "execution_count": 6,
   "metadata": {},
   "outputs": [],
   "source": [
    "class MNISTNet(nn.Module):\n",
    "    def __init__(self):\n",
    "        super(MNISTNet, self).__init__()\n",
    "        \n",
    "        self.fc1 = nn.Linear(784, 400)\n",
    "        self.relu1 = nn.ReLU()\n",
    "\n",
    "        self.fc2 = nn.Linear(400, 100)\n",
    "        self.relu2 = nn.ReLU()\n",
    "        \n",
    "        self.fc3 = nn.Linear(100, 10)\n",
    "        \n",
    "    def forward(self, x):\n",
    "        x = self.fc1(x)\n",
    "        x = self.relu1(x)\n",
    "        \n",
    "        x = self.fc2(x)\n",
    "        x = self.relu2(x)\n",
    "        \n",
    "        x = self.fc3(x)\n",
    "        \n",
    "        return x"
   ]
  },
  {
   "cell_type": "code",
   "execution_count": 7,
   "metadata": {},
   "outputs": [],
   "source": [
    "Net = MNISTNet()"
   ]
  },
  {
   "cell_type": "code",
   "execution_count": 8,
   "metadata": {},
   "outputs": [
    {
     "data": {
      "text/plain": [
       "MNISTNet(\n",
       "  (fc1): Linear(in_features=784, out_features=400, bias=True)\n",
       "  (relu1): ReLU()\n",
       "  (fc2): Linear(in_features=400, out_features=100, bias=True)\n",
       "  (relu2): ReLU()\n",
       "  (fc3): Linear(in_features=100, out_features=10, bias=True)\n",
       ")"
      ]
     },
     "execution_count": 8,
     "metadata": {},
     "output_type": "execute_result"
    }
   ],
   "source": [
    "Net"
   ]
  },
  {
   "cell_type": "code",
   "execution_count": 9,
   "metadata": {
    "scrolled": true
   },
   "outputs": [
    {
     "data": {
      "text/plain": [
       "torch.Size([100, 784])"
      ]
     },
     "execution_count": 9,
     "metadata": {},
     "output_type": "execute_result"
    }
   ],
   "source": [
    "batch_size = 100\n",
    "\n",
    "x = torch.randn(batch_size, 784)\n",
    "x.shape"
   ]
  },
  {
   "cell_type": "code",
   "execution_count": 10,
   "metadata": {},
   "outputs": [
    {
     "data": {
      "text/plain": [
       "tensor([[-2.7721e-02,  1.3790e-03, -2.8348e-01,  7.8100e-02,  5.5203e-02,\n",
       "         -9.5336e-02,  8.0686e-02,  2.3451e-02, -4.6472e-03,  1.4100e-01],\n",
       "        [-5.8056e-02,  4.9296e-02, -4.0270e-02, -1.3801e-01, -6.8639e-03,\n",
       "         -1.6362e-01, -2.1630e-03, -1.4591e-01, -2.1222e-02,  1.3711e-01],\n",
       "        [ 1.8383e-02, -1.8767e-02, -2.6745e-02, -6.7755e-02,  6.8468e-02,\n",
       "         -1.7739e-01,  6.9169e-02, -3.6202e-02, -1.0092e-01,  1.6089e-01],\n",
       "        [-2.9776e-02,  5.5043e-02,  2.0140e-02,  5.7548e-02,  3.5415e-02,\n",
       "         -1.8898e-01,  1.0747e-01,  4.4371e-02, -1.7979e-01,  1.9623e-01],\n",
       "        [-8.0116e-02, -3.2846e-02, -1.0181e-01, -2.5580e-02, -1.9540e-02,\n",
       "         -1.5016e-01,  3.6832e-02,  1.9453e-02, -2.0733e-01,  1.5966e-01],\n",
       "        [-6.4888e-02,  1.2142e-01, -1.4295e-01,  4.3792e-02, -3.8982e-02,\n",
       "         -1.4595e-01,  1.1465e-01, -3.2848e-02, -1.0126e-01,  8.9809e-02],\n",
       "        [ 1.4286e-02, -2.0928e-02, -1.1294e-01,  3.2477e-02,  1.1231e-01,\n",
       "         -1.3625e-01, -7.0443e-03, -5.6218e-03, -1.4864e-01,  1.8409e-01],\n",
       "        [-1.1020e-01, -2.3373e-02, -2.3251e-02,  1.2992e-02,  5.0389e-02,\n",
       "          4.7686e-02,  5.7340e-02, -5.4773e-02, -6.2486e-02,  1.6747e-01],\n",
       "        [-1.2623e-01,  1.5958e-03, -5.8562e-02,  1.4517e-01, -4.7285e-03,\n",
       "         -1.0176e-01,  2.8701e-02, -1.1136e-01, -1.5525e-01,  1.7840e-01],\n",
       "        [-4.1045e-02,  9.0613e-02, -1.0114e-01, -5.1021e-02,  1.2578e-01,\n",
       "         -6.0774e-02,  1.0475e-01, -1.5380e-01, -9.5497e-02,  2.1234e-01],\n",
       "        [-1.1895e-01,  1.4278e-01, -3.6547e-02,  1.1773e-02, -1.2116e-01,\n",
       "         -4.3451e-02, -3.6602e-03, -5.3919e-02, -1.3521e-01,  1.8969e-01],\n",
       "        [-7.6177e-02,  1.8222e-01, -2.1258e-02,  2.8902e-02, -5.1759e-02,\n",
       "          3.5076e-02,  9.0071e-02,  2.2933e-03, -1.1442e-01,  1.9504e-01],\n",
       "        [-1.7828e-01,  4.4667e-02,  2.5747e-02, -5.3700e-02,  1.1361e-01,\n",
       "         -1.8102e-01,  8.5949e-03, -4.8940e-02,  9.1991e-02,  1.4138e-01],\n",
       "        [-8.1253e-02, -4.6733e-02, -1.1157e-01, -1.6932e-02,  8.3183e-02,\n",
       "         -7.9263e-02,  1.2982e-01, -8.5047e-02,  4.0376e-02,  1.4704e-01],\n",
       "        [-5.3791e-02, -5.6587e-02, -1.1418e-01,  4.4046e-02, -5.7967e-03,\n",
       "          7.9551e-02,  8.6348e-02,  9.4607e-03, -1.4954e-01,  2.3071e-01],\n",
       "        [-1.1145e-01, -1.0410e-01, -1.8745e-01,  1.1164e-01,  2.6581e-02,\n",
       "          1.8468e-02, -2.8410e-02, -4.2346e-02, -1.4856e-01,  1.9666e-01],\n",
       "        [-2.5750e-02,  3.9193e-02, -8.7477e-02, -4.6238e-02,  1.1515e-01,\n",
       "         -8.7400e-02, -6.3217e-02, -2.8735e-01, -6.5462e-02,  2.2400e-01],\n",
       "        [ 2.1449e-02, -1.9365e-02, -3.4962e-02,  4.4883e-02,  5.1630e-02,\n",
       "         -7.0785e-02,  1.8419e-02, -7.3433e-02, -8.1480e-02,  1.1710e-01],\n",
       "        [-1.4577e-01,  4.6039e-02, -4.4381e-02, -1.6356e-01,  5.0057e-02,\n",
       "         -1.5289e-01,  1.6163e-02, -2.3790e-01, -3.9090e-02,  1.8596e-01],\n",
       "        [-9.1612e-02, -5.5873e-02, -1.8603e-02, -2.5581e-02, -2.0031e-02,\n",
       "          1.8294e-02,  4.1750e-02, -9.2125e-02, -9.5600e-02,  1.8478e-01],\n",
       "        [-7.5575e-02,  8.1993e-02, -3.3837e-02, -5.6610e-02,  8.6966e-02,\n",
       "         -4.6238e-02, -8.0295e-02, -1.3988e-01, -1.0863e-01,  1.7871e-01],\n",
       "        [-1.7069e-01,  8.3421e-03, -1.8038e-02, -1.1029e-03, -5.9922e-02,\n",
       "         -1.4661e-01,  2.4913e-02, -5.5907e-02, -1.4465e-01,  2.0658e-01],\n",
       "        [-1.4030e-02,  9.1793e-02, -8.6705e-02,  6.7518e-02, -2.3556e-02,\n",
       "         -1.0424e-02, -3.3249e-02,  1.1943e-02, -1.9079e-01,  2.1663e-01],\n",
       "        [ 8.8843e-02,  5.7479e-03, -1.3000e-01, -1.9181e-03,  8.4564e-03,\n",
       "         -8.6756e-02,  9.8055e-02, -3.9325e-02, -2.0106e-01,  1.6880e-01],\n",
       "        [-2.1474e-02,  1.2649e-01, -2.7237e-03,  2.3018e-02,  1.6325e-01,\n",
       "         -1.9781e-02,  1.1658e-01, -8.6554e-02, -8.9608e-02,  1.8443e-01],\n",
       "        [ 8.7019e-02,  2.1270e-03, -1.3313e-01,  8.4339e-02,  9.2125e-02,\n",
       "         -3.8279e-02,  1.2770e-01, -5.3220e-02, -1.3801e-01,  2.8210e-01],\n",
       "        [-1.0264e-01, -4.1691e-02, -7.1376e-02,  1.4380e-02,  4.6265e-02,\n",
       "         -8.9002e-02,  9.5317e-02, -1.5564e-02, -3.5312e-02,  1.8668e-01],\n",
       "        [-8.3340e-02, -2.3664e-02, -6.0384e-02, -1.4132e-02, -1.5954e-02,\n",
       "         -2.0869e-02, -9.8569e-04, -8.2576e-02, -9.1252e-02,  8.4172e-02],\n",
       "        [ 6.1598e-02, -1.1800e-01, -1.9922e-02, -8.4230e-02,  4.2707e-02,\n",
       "          1.7995e-02,  3.2636e-02, -1.7562e-02, -8.9270e-02,  1.3335e-01],\n",
       "        [-7.1522e-02,  7.5757e-03,  1.8242e-03, -1.5395e-01, -2.1363e-02,\n",
       "         -6.9212e-02, -3.8540e-03, -7.2201e-02, -1.0090e-01,  1.8070e-01],\n",
       "        [-2.6552e-02,  5.5443e-02, -8.7103e-03, -1.0331e-01,  8.2603e-02,\n",
       "          3.9368e-02,  1.2433e-01, -7.0536e-02, -8.5640e-02,  1.9102e-01],\n",
       "        [ 7.2662e-03, -1.4126e-01, -6.2972e-02, -8.3016e-02,  2.9950e-02,\n",
       "          3.5851e-02, -3.8969e-03, -1.5232e-01, -6.6172e-02,  8.2116e-02],\n",
       "        [-1.3828e-01,  5.7873e-02, -1.2973e-01,  1.0000e-01,  5.1805e-02,\n",
       "         -5.6143e-02, -1.6138e-02, -7.5655e-03, -7.1205e-02,  2.1736e-01],\n",
       "        [-7.5227e-02,  2.4892e-02, -8.5514e-02, -3.6474e-02, -3.1857e-02,\n",
       "          1.5137e-02,  1.1294e-01, -1.5051e-01, -7.1461e-02,  1.2522e-01],\n",
       "        [ 4.5799e-02,  1.2710e-01, -6.5287e-02, -8.3777e-02,  1.1559e-01,\n",
       "         -7.8579e-02,  6.6983e-02, -5.3616e-02, -2.9195e-02,  2.1604e-01],\n",
       "        [ 4.2026e-03,  2.5823e-02, -1.0894e-01,  2.5001e-02, -5.6575e-02,\n",
       "         -3.7109e-03,  1.6352e-02,  5.7293e-03, -1.6762e-01,  2.5620e-02],\n",
       "        [ 4.3027e-02,  5.9320e-02, -1.9386e-01,  6.0566e-02,  1.2118e-01,\n",
       "         -1.7440e-03,  2.1572e-01, -1.3444e-01, -9.6827e-02,  1.4224e-01],\n",
       "        [ 5.0670e-03,  4.0145e-02, -1.0329e-01, -5.2443e-02,  2.3633e-03,\n",
       "          2.1621e-02,  1.4717e-02, -5.7165e-03, -1.2709e-01,  1.2750e-01],\n",
       "        [-5.3090e-02,  1.2141e-01, -4.5743e-02,  1.7031e-01, -4.8229e-02,\n",
       "         -1.6431e-01, -4.3321e-02,  1.2833e-02, -1.7972e-01,  1.6016e-01],\n",
       "        [-3.8758e-02, -3.4649e-02,  2.8737e-02,  1.5660e-02,  3.5672e-02,\n",
       "          6.2492e-02,  4.0223e-02, -1.0664e-01, -1.0967e-01,  2.2886e-01],\n",
       "        [-3.2135e-02,  5.9053e-02,  5.2164e-02,  5.9937e-02,  9.8688e-02,\n",
       "         -6.9201e-02,  9.7433e-02, -1.0192e-01, -3.5252e-02,  2.6523e-01],\n",
       "        [-1.0050e-01, -4.0227e-02, -1.5841e-02,  4.3508e-02, -4.3465e-02,\n",
       "          1.1980e-01,  3.0373e-02, -4.6954e-03, -5.5464e-03,  2.0979e-01],\n",
       "        [-1.0196e-01, -1.8406e-02, -9.5566e-02, -3.9256e-02,  2.6785e-02,\n",
       "          3.9734e-02, -1.4004e-03, -9.1823e-02, -6.4209e-02,  1.4143e-01],\n",
       "        [-6.7783e-02, -1.5654e-02,  3.5366e-02,  5.8087e-02,  1.1410e-02,\n",
       "         -3.2873e-02,  1.1495e-02,  8.3356e-02, -2.1627e-02,  1.3148e-01],\n",
       "        [-5.8739e-02, -1.7491e-02, -6.2067e-02,  5.0477e-02,  6.3535e-02,\n",
       "         -7.6788e-02,  9.7932e-02,  3.3241e-02,  3.6872e-03,  2.3124e-01],\n",
       "        [ 3.8910e-02, -8.1131e-03, -1.1525e-01, -3.8636e-02,  8.8886e-02,\n",
       "         -5.3003e-02,  3.4837e-02, -1.0195e-01,  1.1298e-02,  1.1695e-01],\n",
       "        [-7.1165e-02,  1.7018e-01, -8.1128e-02,  7.0504e-02,  1.1360e-01,\n",
       "         -8.4440e-02,  2.4522e-02, -4.3461e-02, -1.1339e-01,  1.3012e-01],\n",
       "        [-8.7225e-02,  1.3172e-01, -3.0501e-02,  6.1373e-02,  2.7704e-02,\n",
       "         -7.8705e-02,  8.4978e-02, -1.4188e-01, -8.8678e-02,  1.3228e-01],\n",
       "        [-1.8193e-02,  5.8380e-02, -3.1703e-03,  3.3196e-02, -1.2631e-02,\n",
       "          2.9988e-03, -2.1587e-02,  1.5922e-02, -1.5375e-01,  1.7533e-01],\n",
       "        [ 4.3168e-02, -2.1801e-02, -1.0844e-01,  3.2819e-02,  1.4351e-01,\n",
       "          1.2450e-02,  6.6368e-02, -7.3071e-02,  2.1027e-02,  1.0588e-01],\n",
       "        [-1.2196e-01,  5.5307e-02, -5.0331e-02,  1.4449e-02,  6.8462e-02,\n",
       "         -5.3423e-02,  8.8962e-02, -2.4091e-02, -7.7866e-02,  1.8472e-01],\n",
       "        [-5.5547e-02,  7.9371e-02, -1.4454e-01,  6.3575e-02,  1.0092e-01,\n",
       "         -1.3481e-01,  3.6109e-02, -1.0120e-01, -3.6978e-02,  8.0627e-02],\n",
       "        [-3.1641e-03, -3.6338e-02, -9.5615e-02, -2.3125e-02,  4.8118e-02,\n",
       "          5.8203e-02,  8.9835e-02, -7.4883e-02, -5.9850e-03,  1.4321e-01],\n",
       "        [-2.3374e-01, -7.9145e-02, -1.3779e-02,  3.1128e-02,  3.2799e-02,\n",
       "         -7.3737e-02,  9.8209e-02, -1.1989e-02, -4.4645e-02,  2.3722e-01],\n",
       "        [ 2.3894e-02, -6.4474e-03, -9.3320e-02,  4.0969e-02, -1.8300e-03,\n",
       "          3.9645e-02,  1.0920e-01,  1.9053e-02, -1.2265e-01,  1.3281e-01],\n",
       "        [-9.0367e-02,  6.1828e-02, -1.7503e-01, -9.6037e-02,  1.2207e-01,\n",
       "         -2.4592e-02, -2.9349e-02, -1.9237e-01, -3.3737e-02,  1.5640e-01],\n",
       "        [-8.9905e-02,  9.2579e-02, -3.0736e-03, -2.2633e-03,  3.4272e-02,\n",
       "         -1.4822e-02,  2.1142e-02, -1.3144e-01, -4.3630e-02,  1.5362e-01],\n",
       "        [-8.1610e-02,  7.0958e-03, -1.2384e-01, -9.0769e-02, -1.9096e-02,\n",
       "          1.0677e-02, -3.5486e-02, -6.7080e-02, -2.7146e-02,  1.0331e-01],\n",
       "        [ 7.5956e-03,  6.9817e-02, -7.5621e-02, -4.3105e-02, -4.4696e-04,\n",
       "         -3.9720e-03,  5.9280e-02, -5.1547e-02, -8.9592e-02,  4.1422e-02],\n",
       "        [ 6.1913e-02,  7.2822e-02,  1.6871e-02,  1.5199e-02, -1.0663e-03,\n",
       "         -2.1895e-02, -2.5006e-02,  7.6788e-02, -8.9524e-02,  1.2595e-01],\n",
       "        [-1.3536e-01,  1.3300e-01, -3.8861e-02, -2.7560e-02,  1.3026e-01,\n",
       "         -4.4723e-02,  3.1538e-02, -3.1311e-02,  6.4034e-03,  1.5705e-01],\n",
       "        [-5.0913e-02,  3.6723e-02,  5.5617e-03,  9.7567e-02,  3.4832e-02,\n",
       "         -6.4624e-02, -3.2713e-04, -1.3982e-02, -9.8979e-02,  1.9278e-01],\n",
       "        [-1.2026e-02,  1.2861e-01, -1.1012e-01,  8.1937e-02, -1.2647e-02,\n",
       "         -1.2411e-01, -6.8121e-04,  7.3122e-02, -2.2847e-01,  9.1769e-02],\n",
       "        [-1.7013e-01, -5.8704e-02, -7.0436e-03,  1.1576e-01,  8.5700e-02,\n",
       "          6.1019e-02,  1.3275e-01,  8.1038e-02, -6.9474e-02,  3.9179e-01],\n",
       "        [-1.7194e-01,  8.4595e-02, -1.5907e-01,  4.9429e-02,  1.5947e-01,\n",
       "         -6.1415e-02, -1.9254e-02, -1.3484e-01,  2.4560e-02,  1.4996e-01],\n",
       "        [-4.0803e-02,  3.1801e-02, -8.0291e-02,  1.0329e-01,  4.1547e-02,\n",
       "          3.4327e-02,  1.1374e-01, -1.6030e-02, -1.1724e-01,  1.4025e-01],\n",
       "        [-3.7380e-02,  1.6215e-01, -1.7729e-01,  1.8478e-01,  3.8790e-02,\n",
       "         -2.4300e-02,  1.9215e-04, -1.4196e-02, -7.5447e-02,  1.6065e-01],\n",
       "        [ 1.5414e-02,  6.0475e-02, -5.7429e-02,  4.3461e-02,  1.0577e-01,\n",
       "         -8.6498e-02,  1.6312e-01, -9.5921e-02,  3.1946e-02,  2.1970e-01],\n",
       "        [ 4.4789e-02, -2.9299e-02, -1.5981e-01, -5.1430e-02,  1.0580e-01,\n",
       "         -4.9961e-02,  1.5622e-01, -5.4403e-02, -3.6153e-02,  1.3733e-01],\n",
       "        [-6.4645e-02,  4.3939e-02, -1.5034e-02,  8.0147e-03,  9.4137e-02,\n",
       "         -2.1106e-01, -1.4506e-02, -9.3198e-02, -4.6326e-02,  2.1057e-01],\n",
       "        [ 7.1498e-02, -1.1671e-01, -1.0055e-01,  1.3123e-02,  3.1393e-02,\n",
       "         -3.8047e-02,  1.2669e-02, -1.1332e-01, -4.8886e-02,  6.2286e-02],\n",
       "        [-1.0741e-02, -2.6536e-02, -3.1324e-02,  5.9922e-02,  1.5581e-01,\n",
       "         -2.4754e-02, -2.5358e-02, -1.2416e-01, -1.3197e-01,  1.4574e-01],\n",
       "        [-6.1857e-02,  5.1669e-02, -2.3132e-02, -3.5832e-02,  8.6222e-02,\n",
       "         -5.2209e-02, -7.2956e-04, -2.0509e-03, -1.5255e-01,  8.5403e-02],\n",
       "        [ 6.3743e-03,  1.1821e-01, -1.3025e-01, -5.5964e-02,  9.4291e-02,\n",
       "         -6.6589e-02,  7.0275e-02, -1.4267e-01, -2.6600e-03,  1.6990e-01],\n",
       "        [-6.1769e-05,  2.6242e-03, -5.3029e-03,  6.5274e-02,  6.6046e-02,\n",
       "         -9.7630e-02,  1.8413e-02, -6.2848e-02, -3.0188e-02,  8.8172e-02],\n",
       "        [ 1.3518e-01, -7.3736e-02,  2.3131e-02, -2.0005e-02,  5.7259e-02,\n",
       "         -1.0358e-02,  3.7496e-02, -1.0120e-01, -5.6962e-02,  2.3040e-01],\n",
       "        [-3.5692e-02,  8.8056e-02, -2.4848e-02, -8.5577e-02, -6.1498e-02,\n",
       "         -1.3317e-01, -9.7906e-02, -1.2553e-02, -1.3165e-01,  1.2954e-01],\n",
       "        [-2.2315e-02,  3.4061e-03, -6.5456e-02,  5.6914e-02,  1.4294e-01,\n",
       "          4.1547e-02,  1.4446e-01, -1.6775e-01,  2.4644e-02,  1.9429e-01],\n",
       "        [-6.8778e-02,  1.2924e-01, -3.0194e-02,  6.2213e-02,  2.5891e-03,\n",
       "         -1.1870e-01,  7.8961e-02,  6.8267e-02, -1.4536e-01,  1.1049e-01],\n",
       "        [ 6.9162e-02, -3.3678e-02,  4.9598e-02, -8.0413e-02, -3.5844e-02,\n",
       "         -2.7108e-02,  3.2164e-02, -6.7081e-02, -9.6741e-02,  1.4172e-01],\n",
       "        [ 3.8501e-02,  1.2074e-01,  4.1757e-02,  3.6636e-02,  9.5939e-02,\n",
       "         -1.1306e-01,  1.0062e-01, -1.4153e-01, -2.9437e-02,  1.0489e-01],\n",
       "        [-2.3580e-01, -6.4354e-02, -2.6973e-02,  8.7987e-02, -8.0784e-02,\n",
       "         -7.7162e-02, -7.6490e-02, -1.5080e-02, -2.3453e-01,  1.9190e-01],\n",
       "        [-1.8548e-02, -1.6365e-02, -1.0733e-02,  1.5621e-02,  3.1196e-02,\n",
       "          1.1825e-04,  8.9480e-02, -6.0455e-03, -4.2046e-02,  1.6101e-01],\n",
       "        [-6.8334e-02,  1.1957e-01, -9.6055e-02, -3.2056e-02, -2.3125e-02,\n",
       "         -9.7434e-02, -3.9269e-02, -2.2942e-01, -6.4717e-02,  1.6163e-01],\n",
       "        [-1.3445e-01,  4.0206e-02, -1.5458e-01,  2.7705e-02,  5.2304e-02,\n",
       "          8.4365e-02,  4.8199e-02, -7.3847e-02, -9.2688e-02,  2.1053e-01],\n",
       "        [-9.5350e-02,  5.1391e-02, -2.2535e-02,  8.4909e-02, -4.0399e-03,\n",
       "          7.7640e-02, -5.6773e-02,  1.6415e-02, -1.7101e-01,  1.1266e-01],\n",
       "        [-8.0036e-02,  3.7124e-02, -4.6797e-02, -3.5431e-02, -4.8528e-02,\n",
       "         -6.3086e-02, -7.6174e-02,  2.7358e-02, -2.3735e-01,  1.0279e-01],\n",
       "        [ 1.4479e-03, -4.5266e-02,  1.8366e-02, -9.0888e-02,  7.5928e-02,\n",
       "         -1.6125e-02,  2.0231e-02, -1.0721e-01,  9.1484e-03,  1.4976e-01],\n",
       "        [-5.3826e-02,  6.8454e-02, -1.3557e-02,  6.7737e-03,  3.3406e-02,\n",
       "          2.4854e-02,  8.3313e-02, -2.8070e-02, -3.5839e-02,  2.3681e-01],\n",
       "        [-1.6368e-03,  1.4430e-02, -1.1451e-01, -1.6003e-02,  9.9785e-02,\n",
       "          1.6820e-02,  7.8853e-02,  7.7335e-03, -1.0015e-01,  2.4436e-01],\n",
       "        [ 3.9256e-02, -1.8812e-02,  2.8121e-02,  1.8942e-02, -6.8346e-03,\n",
       "         -1.8258e-01,  1.1566e-01,  2.6141e-02, -9.3611e-02,  1.7616e-01],\n",
       "        [-5.3129e-02,  7.0570e-02, -1.4835e-01,  7.7676e-02,  1.2813e-01,\n",
       "         -1.0768e-01,  1.4049e-01, -7.6671e-02,  3.4448e-03,  1.9456e-01],\n",
       "        [-1.0912e-01, -1.7572e-02, -1.6789e-01,  2.7603e-02,  7.3166e-02,\n",
       "          8.1099e-02, -9.1466e-02, -3.8138e-02, -1.2127e-01,  1.7509e-01],\n",
       "        [ 1.0163e-01,  1.5047e-01, -3.8978e-02,  2.2993e-02,  3.2661e-02,\n",
       "         -1.2378e-01,  1.5641e-02,  1.9845e-02, -2.0056e-01,  1.8749e-01],\n",
       "        [-1.1539e-01, -3.7873e-02, -9.2872e-02, -2.8590e-02,  3.3146e-02,\n",
       "         -7.6663e-02,  6.8074e-02, -6.5578e-02, -6.5617e-02,  9.4292e-02],\n",
       "        [-1.7264e-01,  1.4853e-01, -2.8563e-02,  6.6354e-02, -7.9224e-02,\n",
       "         -1.1811e-01,  1.5037e-02, -7.8430e-02, -6.5899e-02,  8.1225e-02],\n",
       "        [-6.7614e-02, -1.6576e-02, -7.8619e-02,  4.0960e-02,  5.3833e-02,\n",
       "          7.5963e-02, -2.4551e-02, -1.2451e-01, -1.3863e-01,  2.2207e-01],\n",
       "        [-3.2257e-02,  1.3319e-01, -3.1478e-02,  9.3136e-02,  2.1366e-02,\n",
       "         -7.0485e-02, -2.1117e-02,  6.1177e-02, -1.6784e-01,  2.5010e-01],\n",
       "        [-9.6520e-02,  1.3646e-01, -2.1589e-01,  2.7900e-02,  1.2454e-02,\n",
       "         -3.0977e-02, -7.0037e-03, -2.7848e-01, -1.2727e-01,  1.1053e-01],\n",
       "        [-6.7926e-02,  8.2325e-02, -4.6640e-02, -8.4274e-02, -3.3423e-02,\n",
       "         -1.4445e-01,  7.5841e-02, -7.8320e-02, -4.9900e-02,  1.4846e-01]],\n",
       "       grad_fn=<AddmmBackward>)"
      ]
     },
     "execution_count": 10,
     "metadata": {},
     "output_type": "execute_result"
    }
   ],
   "source": [
    "Net(x)"
   ]
  },
  {
   "cell_type": "code",
   "execution_count": 11,
   "metadata": {},
   "outputs": [
    {
     "data": {
      "text/plain": [
       "torch.Size([100, 10])"
      ]
     },
     "execution_count": 11,
     "metadata": {},
     "output_type": "execute_result"
    }
   ],
   "source": [
    "Net(x).shape"
   ]
  },
  {
   "cell_type": "markdown",
   "metadata": {},
   "source": [
    "# data loader"
   ]
  },
  {
   "cell_type": "code",
   "execution_count": 12,
   "metadata": {},
   "outputs": [
    {
     "data": {
      "text/plain": [
       "((array([[0., 0., 0., ..., 0., 0., 0.],\n",
       "         [0., 0., 0., ..., 0., 0., 0.],\n",
       "         [0., 0., 0., ..., 0., 0., 0.],\n",
       "         ...,\n",
       "         [0., 0., 0., ..., 0., 0., 0.],\n",
       "         [0., 0., 0., ..., 0., 0., 0.],\n",
       "         [0., 0., 0., ..., 0., 0., 0.]], dtype=float32),\n",
       "  array([5, 0, 4, ..., 8, 4, 8], dtype=int64)),\n",
       " (array([[0., 0., 0., ..., 0., 0., 0.],\n",
       "         [0., 0., 0., ..., 0., 0., 0.],\n",
       "         [0., 0., 0., ..., 0., 0., 0.],\n",
       "         ...,\n",
       "         [0., 0., 0., ..., 0., 0., 0.],\n",
       "         [0., 0., 0., ..., 0., 0., 0.],\n",
       "         [0., 0., 0., ..., 0., 0., 0.]], dtype=float32),\n",
       "  array([3, 8, 6, ..., 5, 6, 8], dtype=int64)))"
      ]
     },
     "execution_count": 12,
     "metadata": {},
     "output_type": "execute_result"
    }
   ],
   "source": [
    "(x_train, y_train), (x_valid, y_valid)"
   ]
  },
  {
   "cell_type": "code",
   "execution_count": 13,
   "metadata": {},
   "outputs": [],
   "source": [
    "from torch.utils.data import DataLoader\n",
    "from torch.utils.data import Dataset"
   ]
  },
  {
   "cell_type": "code",
   "execution_count": 14,
   "metadata": {},
   "outputs": [],
   "source": [
    "class MNISTData(Dataset):\n",
    "    def __init__(self, dset='train'):\n",
    "        if dset=='train':\n",
    "            self.x = x_train\n",
    "            self.y = y_train\n",
    "        elif dset=='val':\n",
    "            self.x = x_valid\n",
    "            self.y = y_valid\n",
    "        else:\n",
    "            raise Exception('dset 정의 제대로 하셈 train or val')\n",
    "            \n",
    "    def __getitem__(self, idx):\n",
    "        return self.x[idx], self.y[idx]\n",
    "    \n",
    "    def __len__(self):\n",
    "        return len(self.x)"
   ]
  },
  {
   "cell_type": "code",
   "execution_count": 32,
   "metadata": {},
   "outputs": [],
   "source": [
    "train_data = MNISTData(dset='train')\n",
    "val_data = MNISTData(dset='val')"
   ]
  },
  {
   "cell_type": "code",
   "execution_count": 16,
   "metadata": {},
   "outputs": [
    {
     "data": {
      "text/plain": [
       "50000"
      ]
     },
     "execution_count": 16,
     "metadata": {},
     "output_type": "execute_result"
    }
   ],
   "source": [
    "len(train_data)"
   ]
  },
  {
   "cell_type": "code",
   "execution_count": 17,
   "metadata": {},
   "outputs": [
    {
     "name": "stdout",
     "output_type": "stream",
     "text": [
      "(784,)\n",
      "1\n"
     ]
    },
    {
     "data": {
      "image/png": "[encoded data removed]",
      "text/plain": [
       "<Figure size 432x288 with 1 Axes>"
      ]
     },
     "metadata": {
      "needs_background": "light"
     },
     "output_type": "display_data"
    }
   ],
   "source": [
    "x, y = train_data[40]\n",
    "pyplot.imshow(x.reshape((28, 28)), cmap=\"gray\")\n",
    "print(x.shape)\n",
    "print(y)"
   ]
  },
  {
   "cell_type": "code",
   "execution_count": 33,
   "metadata": {},
   "outputs": [],
   "source": [
    "train_loader = DataLoader(train_data, batch_size=8)\n",
    "val_loader = DataLoader(val_data, batch_size=8)"
   ]
  },
  {
   "cell_type": "code",
   "execution_count": 19,
   "metadata": {},
   "outputs": [
    {
     "name": "stdout",
     "output_type": "stream",
     "text": [
      "torch.Size([8, 784])\n",
      "torch.Size([8])\n"
     ]
    }
   ],
   "source": [
    "train_x, train_y = iter(train_loader).__next__()\n",
    "print(train_x.shape)\n",
    "print(train_y.shape)"
   ]
  },
  {
   "cell_type": "code",
   "execution_count": 20,
   "metadata": {},
   "outputs": [
    {
     "data": {
      "text/plain": [
       "tensor([5, 0, 4, 1, 9, 2, 1, 3])"
      ]
     },
     "execution_count": 20,
     "metadata": {},
     "output_type": "execute_result"
    }
   ],
   "source": [
    "train_y"
   ]
  },
  {
   "cell_type": "markdown",
   "metadata": {},
   "source": [
    "# train"
   ]
  },
  {
   "cell_type": "code",
   "execution_count": 21,
   "metadata": {},
   "outputs": [],
   "source": [
    "import torch.nn.functional as F"
   ]
  },
  {
   "cell_type": "code",
   "execution_count": 22,
   "metadata": {},
   "outputs": [
    {
     "data": {
      "text/plain": [
       "<function torch.nn.functional.cross_entropy(input: torch.Tensor, target: torch.Tensor, weight: Union[torch.Tensor, NoneType] = None, size_average: Union[bool, NoneType] = None, ignore_index: int = -100, reduce: Union[bool, NoneType] = None, reduction: str = 'mean') -> torch.Tensor>"
      ]
     },
     "execution_count": 22,
     "metadata": {},
     "output_type": "execute_result"
    }
   ],
   "source": [
    "loss_func = F.cross_entropy\n",
    "loss_func"
   ]
  },
  {
   "cell_type": "code",
   "execution_count": 23,
   "metadata": {},
   "outputs": [],
   "source": [
    "import torch.optim as optim"
   ]
  },
  {
   "cell_type": "code",
   "execution_count": 24,
   "metadata": {},
   "outputs": [
    {
     "data": {
      "text/plain": [
       "MNISTNet(\n",
       "  (fc1): Linear(in_features=784, out_features=400, bias=True)\n",
       "  (relu1): ReLU()\n",
       "  (fc2): Linear(in_features=400, out_features=100, bias=True)\n",
       "  (relu2): ReLU()\n",
       "  (fc3): Linear(in_features=100, out_features=10, bias=True)\n",
       ")"
      ]
     },
     "execution_count": 24,
     "metadata": {},
     "output_type": "execute_result"
    }
   ],
   "source": [
    "Net"
   ]
  },
  {
   "cell_type": "code",
   "execution_count": 25,
   "metadata": {},
   "outputs": [],
   "source": [
    "optimizer = optim.Adam(Net.parameters(), lr=1e-3)"
   ]
  },
  {
   "cell_type": "code",
   "execution_count": 26,
   "metadata": {},
   "outputs": [],
   "source": [
    "from tqdm import tqdm"
   ]
  },
  {
   "cell_type": "code",
   "execution_count": 27,
   "metadata": {},
   "outputs": [
    {
     "name": "stderr",
     "output_type": "stream",
     "text": [
      "100%|█████████████████████████████████████████████████████████████████████████████| 6250/6250 [00:19<00:00, 326.10it/s]\n",
      "  1%|▊                                                                              | 62/6250 [00:00<00:20, 308.82it/s]"
     ]
    },
    {
     "name": "stdout",
     "output_type": "stream",
     "text": [
      "0.050463978201150894\n"
     ]
    },
    {
     "name": "stderr",
     "output_type": "stream",
     "text": [
      "100%|█████████████████████████████████████████████████████████████████████████████| 6250/6250 [00:21<00:00, 293.97it/s]\n",
      "  1%|▋                                                                              | 52/6250 [00:00<00:24, 256.29it/s]"
     ]
    },
    {
     "name": "stdout",
     "output_type": "stream",
     "text": [
      "0.031030483543872833\n"
     ]
    },
    {
     "name": "stderr",
     "output_type": "stream",
     "text": [
      "100%|█████████████████████████████████████████████████████████████████████████████| 6250/6250 [00:21<00:00, 295.33it/s]"
     ]
    },
    {
     "name": "stdout",
     "output_type": "stream",
     "text": [
      "0.0038604778237640858\n"
     ]
    },
    {
     "name": "stderr",
     "output_type": "stream",
     "text": [
      "\n"
     ]
    }
   ],
   "source": [
    "for epoch in range(3):\n",
    "    for x, y in tqdm(train_loader):\n",
    "        pred = Net(x)\n",
    "        loss = loss_func(pred, y)\n",
    "        \n",
    "        loss.backward()\n",
    "        optimizer.step()\n",
    "        optimizer.zero_grad()\n",
    "    \n",
    "    print(loss.item())"
   ]
  },
  {
   "cell_type": "code",
   "execution_count": 30,
   "metadata": {},
   "outputs": [],
   "source": [
    "def accuracy(model, data_loader):\n",
    "    correct = 0\n",
    "    with torch.no_grad():\n",
    "        for x,y in tqdm(data_loader):\n",
    "            pred = model(x)\n",
    "            correct += pred.argmax(dim=1).eq(y).sum().item()\n",
    "    \n",
    "    accuracy = 100 * correct / len(data_loader.dataset)\n",
    "    print(accuracy)\n",
    "    \n",
    "    return accuracy"
   ]
  },
  {
   "cell_type": "code",
   "execution_count": 31,
   "metadata": {},
   "outputs": [
    {
     "name": "stderr",
     "output_type": "stream",
     "text": [
      "100%|████████████████████████████████████████████████████████████████████████████| 6250/6250 [00:01<00:00, 3790.89it/s]"
     ]
    },
    {
     "name": "stdout",
     "output_type": "stream",
     "text": [
      "98.336\n"
     ]
    },
    {
     "name": "stderr",
     "output_type": "stream",
     "text": [
      "\n"
     ]
    },
    {
     "data": {
      "text/plain": [
       "98.336"
      ]
     },
     "execution_count": 31,
     "metadata": {},
     "output_type": "execute_result"
    }
   ],
   "source": [
    "accuracy(Net, train_loader)"
   ]
  },
  {
   "cell_type": "code",
   "execution_count": 34,
   "metadata": {},
   "outputs": [
    {
     "name": "stderr",
     "output_type": "stream",
     "text": [
      "100%|████████████████████████████████████████████████████████████████████████████| 1250/1250 [00:00<00:00, 3463.89it/s]"
     ]
    },
    {
     "name": "stdout",
     "output_type": "stream",
     "text": [
      "97.39\n"
     ]
    },
    {
     "name": "stderr",
     "output_type": "stream",
     "text": [
      "\n"
     ]
    },
    {
     "data": {
      "text/plain": [
       "97.39"
      ]
     },
     "execution_count": 34,
     "metadata": {},
     "output_type": "execute_result"
    }
   ],
   "source": [
    "accuracy(Net, val_loader)"
   ]
  },
  {
   "cell_type": "markdown",
   "metadata": {},
   "source": [
    "# save and load"
   ]
  },
  {
   "cell_type": "code",
   "execution_count": 36,
   "metadata": {},
   "outputs": [
    {
     "data": {
      "text/plain": [
       "OrderedDict([('fc1.weight',\n",
       "              tensor([[-0.0278, -0.0024,  0.0318,  ..., -0.0063, -0.0055, -0.0317],\n",
       "                      [ 0.0293,  0.0250,  0.0098,  ..., -0.0093, -0.0353, -0.0217],\n",
       "                      [-0.0042,  0.0100,  0.0013,  ..., -0.0228, -0.0274, -0.0314],\n",
       "                      ...,\n",
       "                      [-0.0080,  0.0267,  0.0069,  ..., -0.0166, -0.0059,  0.0070],\n",
       "                      [ 0.0240, -0.0209, -0.0017,  ...,  0.0187, -0.0122,  0.0151],\n",
       "                      [ 0.0241, -0.0024, -0.0043,  ..., -0.0332,  0.0101,  0.0141]])),\n",
       "             ('fc1.bias',\n",
       "              tensor([-1.3638e-01,  4.8785e-02, -1.2979e-01, -5.7422e-02, -8.7317e-02,\n",
       "                      -3.5953e-02, -3.1677e-02,  2.6225e-02, -1.8546e-02, -2.8241e-02,\n",
       "                      -2.6012e-02, -2.7197e-02, -4.3747e-02, -3.6820e-03,  3.9711e-02,\n",
       "                      -9.6093e-02, -4.7992e-03, -6.3259e-02,  1.7215e-02, -2.3305e-02,\n",
       "                       8.3237e-02, -1.0370e-01, -8.8575e-02, -2.2488e-01, -1.0862e-02,\n",
       "                      -1.7534e-01, -5.1894e-02, -2.4731e-02, -1.7566e-02,  4.6974e-03,\n",
       "                       1.8241e-03,  2.2967e-02, -1.5580e-01, -9.0786e-02,  4.6741e-02,\n",
       "                      -4.1627e-02,  1.6354e-02,  2.2668e-02, -4.7096e-03, -6.1410e-02,\n",
       "                       4.6004e-02, -1.4069e-01, -2.2772e-02,  1.0183e-01,  8.3467e-02,\n",
       "                      -3.1533e-03, -8.1455e-02, -5.2393e-03, -5.3104e-02, -2.5750e-02,\n",
       "                      -3.2900e-02,  4.4959e-02, -3.2754e-02,  1.1747e-02, -9.9624e-02,\n",
       "                      -8.2120e-02, -9.4478e-02,  7.4679e-02, -1.1197e-01, -2.5079e-03,\n",
       "                      -6.1718e-02,  1.3662e-01, -1.0214e-01,  2.0699e-04, -5.3799e-02,\n",
       "                      -3.3805e-02, -3.6779e-02, -5.5143e-02, -4.4898e-02,  6.4962e-02,\n",
       "                       1.8051e-02,  8.2475e-02, -1.6644e-02,  2.5540e-03,  1.3177e-02,\n",
       "                       1.2712e-02,  2.4597e-02,  2.9475e-02, -7.2311e-02,  5.6723e-02,\n",
       "                      -9.2307e-02, -1.6958e-01,  1.9961e-02, -7.2818e-02,  5.0351e-02,\n",
       "                      -7.0426e-02, -1.0102e-01, -2.3678e-02,  3.3784e-02, -1.1728e-01,\n",
       "                       2.8760e-02,  1.6698e-01, -2.8544e-02, -9.0589e-02,  1.3017e-02,\n",
       "                      -1.3347e-02, -1.8598e-02, -5.2727e-02,  1.4111e-01,  8.5976e-02,\n",
       "                       2.4622e-03,  1.2300e-02, -4.3298e-02, -8.8574e-02, -5.4995e-02,\n",
       "                      -6.9043e-02, -9.3283e-02, -4.6755e-02, -4.5645e-02, -1.3506e-01,\n",
       "                       1.1016e-02, -6.0536e-02, -6.2307e-03, -1.0008e-03, -4.3560e-02,\n",
       "                      -2.6148e-02, -7.7833e-02, -1.0916e-01, -1.2213e-02, -6.8240e-02,\n",
       "                      -3.2853e-02, -6.4789e-02, -7.1044e-02, -3.0018e-02,  5.3882e-02,\n",
       "                      -1.1377e-01, -6.8068e-02, -2.2517e-02,  2.6051e-02, -3.1597e-02,\n",
       "                      -6.2963e-02, -4.4321e-02, -2.1444e-01, -5.8862e-02, -3.4005e-02,\n",
       "                      -1.0765e-01, -3.6224e-02, -8.3661e-02,  2.3521e-02,  5.3880e-02,\n",
       "                       1.1106e-02, -1.7970e-02, -9.6711e-03,  8.1569e-02, -9.2754e-02,\n",
       "                      -7.6958e-02,  1.6391e-03, -7.6057e-03, -1.5568e-02, -3.6752e-02,\n",
       "                      -1.0442e-01, -2.9162e-03, -6.4890e-02,  1.7713e-02,  5.8197e-02,\n",
       "                      -1.7979e-02,  3.8651e-02,  4.1824e-02,  1.0703e-02, -2.0412e-02,\n",
       "                      -1.3673e-01, -9.7645e-03, -1.2077e-03, -1.1869e-01, -1.0322e-01,\n",
       "                      -3.2440e-02,  3.0918e-02, -1.0951e-01,  1.4593e-02, -5.4776e-02,\n",
       "                      -1.8967e-02,  2.7814e-02, -1.0182e-01, -9.2653e-02, -4.1001e-02,\n",
       "                      -6.9937e-02, -1.1653e-01, -5.3299e-02, -5.9858e-02,  3.6187e-02,\n",
       "                       5.9508e-02,  1.6177e-02, -1.2464e-01,  2.3807e-02, -1.2620e-01,\n",
       "                       9.1671e-02,  3.2211e-02, -3.3168e-02, -4.4187e-02,  7.2641e-03,\n",
       "                      -2.4230e-02, -7.2617e-02, -1.0585e-01, -7.9494e-02,  9.4172e-03,\n",
       "                       5.6850e-02, -1.4056e-02,  3.5426e-02, -1.0049e-01, -1.2971e-01,\n",
       "                       1.0801e-02, -1.4201e-02,  7.0059e-02, -1.0235e-01, -1.4619e-02,\n",
       "                       2.6844e-02, -8.1077e-02,  1.6165e-01, -1.1648e-01, -6.9389e-02,\n",
       "                       4.6129e-02, -5.3293e-02, -5.2309e-03, -4.7769e-02, -2.0652e-02,\n",
       "                       3.1152e-02, -1.2714e-01,  5.6522e-03,  3.5319e-02,  1.7548e-01,\n",
       "                       1.0936e-01, -7.0622e-03, -4.8258e-02,  2.6880e-02, -2.6298e-04,\n",
       "                      -5.8004e-03,  4.8356e-02,  1.5376e-02, -3.1902e-02, -7.3684e-02,\n",
       "                      -1.1826e-01,  1.4428e-01, -9.8725e-03, -6.1036e-02,  4.1488e-02,\n",
       "                      -1.6019e-01,  4.5323e-02,  1.0708e-02, -1.7645e-02, -8.2343e-02,\n",
       "                      -2.6649e-02, -2.3944e-02,  6.1715e-02, -5.1138e-03, -2.2321e-03,\n",
       "                      -8.8334e-02,  5.2106e-02, -1.5562e-02,  2.1043e-03, -4.0246e-02,\n",
       "                       5.4150e-03, -9.4651e-02, -1.0930e-01, -1.0425e-01, -9.6298e-03,\n",
       "                       1.0484e-01,  2.5712e-02, -8.3322e-02,  2.5776e-02,  6.5872e-02,\n",
       "                      -5.8339e-02,  6.9694e-02, -4.6576e-02, -1.1154e-02, -4.3237e-02,\n",
       "                       1.4640e-02, -7.6009e-03, -8.1005e-02, -6.2579e-03, -1.4079e-01,\n",
       "                       7.3262e-02, -7.6743e-02, -2.0351e-02, -2.5378e-02,  5.9813e-02,\n",
       "                       1.2950e-02, -1.9002e-01, -1.3460e-01,  6.9377e-03,  6.9232e-02,\n",
       "                       3.2005e-03, -5.0385e-02,  2.7560e-02, -3.3348e-02, -1.1270e-01,\n",
       "                      -1.1770e-01, -1.4026e-02,  1.5353e-01,  2.7015e-02, -1.4118e-02,\n",
       "                      -2.7873e-02, -3.6888e-02,  3.6928e-02,  6.1361e-02, -3.0334e-03,\n",
       "                      -5.1511e-02,  4.6359e-03, -5.4505e-02, -9.3710e-03,  5.9843e-03,\n",
       "                       1.5491e-01, -1.2055e-01, -1.1799e-01, -2.3343e-02,  3.4516e-02,\n",
       "                      -2.0326e-02, -2.3172e-02, -3.9187e-02, -7.8728e-02, -1.2030e-01,\n",
       "                       8.5283e-02, -4.7107e-02,  9.9714e-02, -1.4312e-01,  1.4846e-03,\n",
       "                      -4.2137e-02, -1.2521e-02, -8.1729e-02, -1.2144e-01,  7.1350e-02,\n",
       "                      -8.0610e-02, -9.7709e-03, -2.3092e-03, -2.9342e-02, -8.1982e-02,\n",
       "                      -1.1581e-01, -8.8217e-02,  1.3305e-01, -1.3729e-01, -4.5683e-02,\n",
       "                       7.9892e-03, -4.1209e-02, -1.3318e-02, -2.9142e-02,  4.2426e-02,\n",
       "                      -7.2393e-02,  8.0651e-03,  3.7771e-02,  5.9495e-02, -5.5141e-02,\n",
       "                      -6.1855e-02, -2.8171e-03,  1.2305e-02,  2.1871e-02, -1.3666e-01,\n",
       "                       3.8965e-02,  4.7459e-03, -1.0892e-01, -4.8250e-02, -6.9445e-02,\n",
       "                      -8.2577e-02, -1.5426e-01, -1.8668e-02, -1.0818e-01, -1.9485e-01,\n",
       "                      -8.4928e-02,  1.4294e-02, -8.3197e-02, -3.2436e-02, -1.3622e-01,\n",
       "                      -4.0268e-02,  6.9229e-02,  3.7130e-02, -4.3706e-02, -5.4057e-02,\n",
       "                      -6.7004e-02,  5.4293e-02, -7.5755e-02,  1.6881e-02, -6.3469e-02,\n",
       "                      -2.3294e-02, -6.1659e-02, -5.7584e-02, -6.5539e-02, -8.5845e-02,\n",
       "                      -1.0220e-01, -5.6344e-02, -6.1831e-02, -3.2885e-02, -1.1925e-01,\n",
       "                       3.9785e-02,  2.2929e-02,  1.6169e-01, -6.7495e-02, -9.6566e-03,\n",
       "                       7.9799e-02, -4.1024e-02, -3.6375e-02, -9.9350e-02,  3.9804e-02,\n",
       "                      -4.2361e-02, -7.7987e-02, -7.0205e-02,  1.2462e-01, -3.4911e-02,\n",
       "                      -1.0059e-01, -7.7847e-02, -2.0053e-02, -1.2090e-01, -5.4533e-02])),\n",
       "             ('fc2.weight',\n",
       "              tensor([[ 0.0984, -0.1893, -0.0211,  ...,  0.0501, -0.1134, -0.1454],\n",
       "                      [-0.0038, -0.0434,  0.0337,  ...,  0.0694,  0.0833,  0.0862],\n",
       "                      [-0.0680,  0.0785, -0.0724,  ..., -0.1408, -0.0517, -0.0936],\n",
       "                      ...,\n",
       "                      [ 0.1084, -0.0606,  0.1528,  ...,  0.0452, -0.0459,  0.0158],\n",
       "                      [ 0.0530,  0.0762,  0.0904,  ...,  0.0759, -0.0425, -0.1681],\n",
       "                      [ 0.0284,  0.1609, -0.0738,  ..., -0.1918,  0.0289,  0.1001]])),\n",
       "             ('fc2.bias',\n",
       "              tensor([ 0.0135, -0.1939,  0.1027,  0.0379,  0.0045,  0.0639,  0.1622, -0.1519,\n",
       "                       0.0201,  0.0331,  0.0547, -0.0459, -0.1516, -0.0846, -0.1766, -0.0181,\n",
       "                       0.0306,  0.0316, -0.1526, -0.0839, -0.0742, -0.0196, -0.0910,  0.1124,\n",
       "                       0.3354,  0.0192, -0.0940,  0.1380, -0.2081, -0.1611,  0.0182, -0.2219,\n",
       "                      -0.0660,  0.0169,  0.0346, -0.0578,  0.0546, -0.1498, -0.0477, -0.0027,\n",
       "                       0.0352, -0.0799, -0.0825, -0.1544, -0.0907, -0.1632,  0.1739, -0.0687,\n",
       "                      -0.0292, -0.1296, -0.1466, -0.0900,  0.1529, -0.1534,  0.0990,  0.0577,\n",
       "                       0.0140, -0.0276, -0.1333, -0.0540, -0.0957, -0.0531, -0.0352,  0.1221,\n",
       "                      -0.0202,  0.0661,  0.1273, -0.0425,  0.2833, -0.0859, -0.1275, -0.0885,\n",
       "                       0.2156, -0.1546, -0.1910, -0.1943, -0.0679, -0.0967,  0.1193,  0.1734,\n",
       "                       0.0408,  0.2317, -0.0934, -0.1467, -0.1788,  0.0960,  0.1074, -0.1469,\n",
       "                       0.2224, -0.0834,  0.0526,  0.0947, -0.1366, -0.2414, -0.0660, -0.0451,\n",
       "                       0.1815, -0.0488, -0.0221,  0.1133])),\n",
       "             ('fc3.weight',\n",
       "              tensor([[ 6.6453e-02,  1.0655e-01, -2.6633e-01, -1.3473e-01,  1.3250e-01,\n",
       "                       -1.7156e-01,  5.6587e-02, -2.3569e-01,  9.7665e-02,  7.5348e-02,\n",
       "                        1.0243e-01,  1.7543e-02, -3.6513e-01, -2.3313e-01, -1.4847e-01,\n",
       "                       -4.5444e-02, -1.1834e-01,  7.4363e-02, -4.1110e-02, -1.4984e-01,\n",
       "                        1.0567e-01, -1.3180e-01,  9.5528e-03, -8.8867e-02,  6.2718e-02,\n",
       "                        1.4117e-01,  1.6671e-02,  6.8175e-02,  7.7344e-02,  8.3558e-02,\n",
       "                       -1.8061e-01,  4.7991e-02,  8.9611e-02, -6.9515e-02, -6.9382e-02,\n",
       "                       -2.8043e-01,  1.0047e-01,  6.3798e-02,  8.1867e-03, -6.8062e-02,\n",
       "                       -1.2161e-01, -3.8410e-01, -6.6240e-02, -7.0067e-02, -1.9649e-01,\n",
       "                       -7.6786e-03, -9.9153e-02, -4.1729e-01, -2.9413e-02,  4.6369e-02,\n",
       "                       -2.9992e-01,  1.0302e-01, -2.1905e-01, -3.7144e-01, -2.8641e-02,\n",
       "                       -2.4940e-01,  2.1445e-01, -1.4160e-01, -2.4698e-01,  1.4751e-01,\n",
       "                       -2.5681e-01, -2.2062e-01, -5.3202e-02,  4.3148e-02,  4.9048e-03,\n",
       "                       -3.7078e-01,  1.0076e-01,  9.3859e-02, -1.5390e-01, -3.2832e-01,\n",
       "                       -1.7805e-01, -3.2616e-02,  1.0592e-01,  1.7361e-02, -3.3830e-01,\n",
       "                       -2.7567e-01, -1.5122e-01,  4.9491e-02, -3.1202e-01,  1.0073e-03,\n",
       "                       -1.0632e-01, -8.8362e-02,  1.9292e-01, -1.7287e-02, -1.4125e-01,\n",
       "                       -4.3484e-02, -4.1209e-01, -4.4194e-02,  2.2386e-04,  9.2011e-02,\n",
       "                        3.6088e-02,  1.2501e-01, -1.2999e-01, -3.6711e-01, -9.4687e-02,\n",
       "                       -1.0557e-01, -9.8101e-02,  9.5641e-02, -8.8666e-02, -1.7664e-01],\n",
       "                      [-1.6080e-01,  9.1741e-02,  4.3901e-02, -1.8367e-01, -1.1910e-01,\n",
       "                       -1.7542e-01, -1.3750e-01, -1.3314e-01, -7.0346e-02, -7.1069e-02,\n",
       "                        4.0014e-02, -1.0869e-01,  1.8919e-01, -1.2747e-01,  1.8481e-02,\n",
       "                       -7.1684e-02, -4.6828e-02, -2.8260e-01, -1.1690e-01, -1.0352e-01,\n",
       "                       -3.2090e-01, -1.1185e-01, -3.5300e-01, -1.6995e-01, -1.9278e-01,\n",
       "                       -1.1420e-01,  3.3858e-02, -2.3087e-01,  1.2203e-01,  2.9791e-02,\n",
       "                       -2.3484e-01,  9.7228e-02, -3.0176e-01, -1.7900e-01, -3.2375e-01,\n",
       "                        1.4099e-01,  9.8831e-02,  1.3301e-01,  5.3717e-02, -2.0692e-01,\n",
       "                        5.2845e-02,  4.5851e-02,  1.3623e-02,  1.2918e-01,  2.1776e-01,\n",
       "                       -4.1936e-01,  1.0150e-01, -1.3759e-01, -5.7343e-01, -3.3202e-01,\n",
       "                        5.9641e-02, -9.0612e-02, -3.2359e-01,  7.6634e-02,  1.1263e-01,\n",
       "                        1.2146e-01, -7.6706e-02,  1.1464e-01,  5.7919e-02, -4.0946e-01,\n",
       "                        1.5647e-01,  9.4493e-02, -2.8179e-01, -2.7441e-01,  5.6796e-02,\n",
       "                        9.3433e-02,  1.2602e-01, -1.0613e-01, -2.8518e-01,  4.7028e-02,\n",
       "                        8.8764e-02,  5.1346e-02, -2.8012e-01,  2.2676e-03,  4.5151e-02,\n",
       "                        1.1754e-01, -3.0366e-01,  1.1283e-01,  9.0373e-02,  3.4657e-02,\n",
       "                       -8.4034e-02,  6.7407e-02,  8.0844e-02, -1.7143e-01,  5.1671e-02,\n",
       "                       -3.2015e-01, -2.3567e-01, -1.2164e-01, -4.2766e-02,  5.0920e-02,\n",
       "                        9.7301e-02, -1.8352e-01, -2.5817e-01,  6.1943e-02, -3.9565e-02,\n",
       "                       -1.4821e-02, -8.7607e-02, -2.4580e-01, -1.5700e-01, -1.2703e-01],\n",
       "                      [ 8.6807e-02,  5.9133e-02, -1.3503e-02, -8.4870e-02, -2.9423e-02,\n",
       "                       -1.7688e-01,  2.2735e-02, -1.8758e-01,  9.1701e-02, -2.1735e-02,\n",
       "                        9.0045e-02, -1.7779e-01,  9.0995e-02, -9.7202e-02,  7.4552e-02,\n",
       "                        5.9723e-02, -3.9234e-02,  1.2395e-01, -3.2982e-01, -7.8497e-02,\n",
       "                       -7.4493e-02,  4.1582e-03, -1.0510e-01,  1.8122e-02, -5.6433e-02,\n",
       "                        1.4102e-01, -1.6870e-01,  1.0807e-01, -1.0443e-01, -1.0863e-01,\n",
       "                       -1.4684e-01, -2.8226e-01, -1.7517e-01,  8.0086e-02,  1.2679e-01,\n",
       "                        1.1800e-01,  1.2664e-01,  1.1371e-01, -4.1260e-03,  1.0565e-02,\n",
       "                        1.0505e-01, -1.5688e-01, -1.9359e-01,  1.3261e-01,  1.6187e-02,\n",
       "                       -7.4513e-02,  9.9836e-02, -1.3936e-01, -1.4722e-01,  5.0933e-03,\n",
       "                       -9.7356e-02, -6.6785e-03, -2.3933e-01,  4.3999e-02,  1.8679e-02,\n",
       "                       -4.4731e-02, -2.1506e-01, -2.0781e-01, -2.2943e-01, -2.4804e-01,\n",
       "                        5.7012e-02, -3.1919e-01, -2.2055e-02, -8.2592e-02, -3.8683e-02,\n",
       "                       -2.3044e-01, -2.7870e-01, -2.3075e-01, -9.1981e-03, -9.6803e-02,\n",
       "                        2.3602e-02, -8.0576e-02, -6.7927e-02, -9.5943e-02, -1.8045e-01,\n",
       "                       -1.5816e-01,  1.9180e-02, -6.5141e-02, -2.2484e-01, -1.2769e-01,\n",
       "                        5.8615e-02,  1.2901e-01,  6.2893e-02, -5.4547e-02, -9.1483e-03,\n",
       "                        6.0113e-02, -1.9735e-01,  8.6528e-02, -1.1465e-01,  7.1610e-02,\n",
       "                       -8.4789e-02, -1.1276e-01,  9.7616e-02, -1.4210e-01,  1.0602e-01,\n",
       "                       -6.7019e-02, -1.2833e-01, -2.7383e-01, -1.2251e-01,  6.9319e-02],\n",
       "                      [-2.9363e-01, -1.6282e-01, -1.4165e-01,  8.0033e-03,  1.4991e-01,\n",
       "                       -1.2740e-01,  1.5484e-01,  2.3244e-02,  9.3882e-02, -1.9687e-01,\n",
       "                        7.1733e-02, -7.0548e-02,  1.2082e-02, -1.7973e-02, -2.6202e-01,\n",
       "                        1.2709e-02, -6.7121e-03,  1.7123e-01,  8.5208e-02, -8.6543e-02,\n",
       "                        9.7072e-02,  6.0973e-02,  1.1343e-01,  7.6840e-02, -1.2933e-01,\n",
       "                       -1.8028e-01,  7.3258e-02,  1.0378e-01,  4.4786e-02,  1.3472e-01,\n",
       "                       -3.0427e-01, -1.4843e-02, -9.5843e-02, -6.7426e-03, -2.2055e-01,\n",
       "                        1.0248e-01, -1.5317e-01, -4.7873e-02, -3.4397e-02, -7.6917e-02,\n",
       "                        1.3685e-01, -6.7578e-02, -1.3261e-01,  6.5744e-02, -1.8652e-01,\n",
       "                       -1.4152e-01, -1.7348e-01,  1.2547e-01, -1.6583e-01, -1.7830e-01,\n",
       "                        1.4291e-01,  9.3888e-02, -2.2345e-01,  9.5741e-02, -1.1026e-01,\n",
       "                       -1.8460e-01, -8.4348e-02,  3.7445e-03,  4.2815e-02, -7.1286e-02,\n",
       "                       -2.9348e-02,  5.2462e-02,  1.2444e-02,  9.6963e-02,  4.8223e-02,\n",
       "                        1.2653e-01, -2.6048e-01, -1.9222e-02, -5.3500e-03, -2.6510e-01,\n",
       "                       -1.4416e-01,  1.8635e-02,  1.0179e-01, -3.0443e-01, -2.0903e-02,\n",
       "                       -1.1096e-01, -5.8550e-02, -1.4685e-01, -1.6687e-01,  1.2820e-01,\n",
       "                        1.2847e-01, -9.6395e-03, -1.7909e-01, -1.5074e-01,  1.1972e-01,\n",
       "                        1.1343e-01, -1.2635e-01, -8.1193e-02, -1.9564e-01,  1.2442e-02,\n",
       "                        6.1460e-03, -2.1550e-01, -7.1184e-03,  8.3081e-02, -1.7955e-01,\n",
       "                        3.0136e-02, -2.6937e-01, -3.5245e-02,  1.7042e-01,  1.1769e-01],\n",
       "                      [ 1.5039e-01,  3.1947e-02,  2.2129e-02,  1.0995e-01,  1.4809e-01,\n",
       "                       -5.7577e-02, -2.0823e-01,  5.5675e-02,  1.0055e-01, -2.4761e-01,\n",
       "                       -4.0890e-01, -9.0467e-02, -3.1932e-01,  3.0021e-02, -3.6938e-03,\n",
       "                        2.6047e-02,  1.3871e-01, -1.6808e-01,  6.6778e-02, -8.8515e-02,\n",
       "                        4.3591e-02, -6.3029e-02, -2.9912e-01, -2.2560e-01, -4.0550e-02,\n",
       "                       -3.3113e-02, -9.5762e-02, -1.1203e-01,  1.2375e-03,  3.3573e-03,\n",
       "                       -1.3469e-02,  9.7500e-02,  1.4825e-01, -1.7035e-01,  9.1447e-02,\n",
       "                       -2.4818e-01,  1.7952e-01, -9.4300e-02,  1.2070e-03,  3.5615e-02,\n",
       "                       -1.3211e-01, -3.6516e-02, -1.3528e-01, -4.8958e-03,  1.2703e-01,\n",
       "                       -3.3748e-01,  9.0251e-02,  1.1928e-03, -4.1316e-02, -2.3243e-03,\n",
       "                       -2.1698e-02, -3.5553e-01, -6.7144e-02, -2.2509e-01,  1.0820e-01,\n",
       "                        1.2736e-01,  9.6160e-02, -3.5078e-02, -3.2204e-02,  1.0447e-01,\n",
       "                       -1.0276e-03,  1.0267e-01, -2.3656e-01, -1.3359e-01,  8.9274e-02,\n",
       "                       -1.6420e-01, -2.8044e-01, -8.9596e-02, -9.4948e-02, -1.2933e-01,\n",
       "                       -1.1735e-01, -1.0855e-01, -4.4438e-01, -2.6691e-01, -7.9357e-02,\n",
       "                        3.4380e-02, -1.4076e-01, -3.7014e-01, -3.3774e-02, -3.0132e-01,\n",
       "                        1.2281e-01, -1.8854e-01, -1.0599e-01, -7.9884e-02, -3.3428e-02,\n",
       "                       -2.0599e-02, -2.9081e-02, -7.0489e-02, -1.9896e-01, -2.3475e-01,\n",
       "                        3.7409e-02,  1.5194e-02,  6.8545e-02,  8.4158e-02, -2.7954e-03,\n",
       "                       -9.5287e-02,  1.2947e-01,  1.4648e-01, -7.4629e-02, -2.0255e-01],\n",
       "                      [-9.9303e-02, -1.7701e-01,  4.6630e-02,  7.1852e-02, -1.0901e-01,\n",
       "                        1.7994e-02, -1.1323e-01,  7.3583e-02, -7.9286e-02,  7.7848e-02,\n",
       "                       -1.1439e-01, -5.0474e-02, -2.3960e-01, -1.3244e-01, -1.7647e-01,\n",
       "                        7.0208e-02,  1.1401e-01, -2.2586e-01, -1.4176e-01, -2.1670e-01,\n",
       "                        1.6284e-01, -1.4595e-01,  4.9659e-02,  1.5383e-01, -1.5694e-01,\n",
       "                       -1.3936e-01,  1.9453e-01, -2.5856e-01,  1.0592e-01,  9.9247e-02,\n",
       "                       -6.7596e-02, -1.6451e-01, -6.2079e-03, -6.5068e-02, -2.8639e-01,\n",
       "                       -1.4698e-01, -1.6242e-01,  7.5868e-03, -3.4337e-02,  8.5959e-02,\n",
       "                        5.5700e-02, -2.7234e-01, -5.1112e-02, -6.2562e-02,  1.3010e-02,\n",
       "                       -3.4313e-01, -2.1857e-01, -1.5763e-01,  7.0380e-03, -3.4877e-01,\n",
       "                        1.8060e-02,  9.0605e-02,  1.8408e-01,  7.9769e-02, -2.7115e-01,\n",
       "                       -1.6520e-01, -1.8435e-01, -2.1031e-01,  5.9622e-02, -1.0207e-01,\n",
       "                        3.0367e-02, -2.6287e-01, -5.1274e-02,  1.0486e-01, -6.5908e-02,\n",
       "                        1.5211e-01,  7.3205e-02, -8.3322e-02, -3.9885e-01, -2.3016e-02,\n",
       "                       -2.3549e-02, -7.0416e-02,  1.4071e-01,  9.4008e-03, -1.5921e-01,\n",
       "                       -1.4255e-01, -9.3623e-02, -3.6124e-02, -1.9853e-02,  4.2847e-02,\n",
       "                       -1.7279e-01, -8.5318e-02, -1.9932e-01, -4.8064e-02,  7.6418e-02,\n",
       "                       -1.9128e-01,  1.4492e-01, -2.0051e-01,  8.2716e-02, -1.9042e-01,\n",
       "                       -1.6200e-01,  7.6846e-02,  1.2992e-01, -3.5346e-03,  1.1847e-01,\n",
       "                       -7.6212e-02, -2.4721e-01,  5.9790e-02, -3.3368e-02,  6.3987e-02],\n",
       "                      [ 1.2687e-01,  1.1382e-02, -2.2189e-01,  6.8608e-02, -1.1611e-01,\n",
       "                        2.9027e-02, -2.9063e-01, -7.5847e-02, -1.4361e-01,  1.4002e-01,\n",
       "                       -2.9107e-01, -3.6888e-01,  3.0569e-02, -4.4678e-02, -8.7146e-02,\n",
       "                       -6.5455e-02, -1.5283e-01,  8.7410e-02,  1.3555e-01,  2.8952e-02,\n",
       "                       -2.9881e-01, -5.1648e-01,  2.6324e-02,  1.2772e-01, -2.0774e-01,\n",
       "                       -3.9646e-02, -8.2822e-02, -1.2789e-01, -1.2782e-01,  5.0324e-02,\n",
       "                        1.4692e-01, -2.5378e-01, -1.1385e-01,  1.3219e-02, -1.2119e-01,\n",
       "                       -5.9673e-03, -7.4831e-02, -6.7062e-02,  9.6844e-03, -2.5530e-01,\n",
       "                       -5.8733e-02, -2.0867e-01, -2.5155e-02, -3.3267e-01, -4.4862e-02,\n",
       "                       -4.1649e-02,  7.8380e-02, -2.0517e-01,  1.1017e-01,  4.2775e-02,\n",
       "                       -2.0982e-01, -2.1124e-01,  4.2600e-02,  2.6762e-02,  3.6927e-02,\n",
       "                       -1.1885e-01,  1.1617e-01, -1.3410e-01, -3.0333e-01,  1.2541e-01,\n",
       "                        1.1035e-01, -2.7507e-01, -3.4761e-01, -3.9711e-02,  2.1186e-02,\n",
       "                        5.6822e-02,  7.8740e-02,  1.9257e-01, -2.8170e-01, -1.0376e-01,\n",
       "                       -6.8044e-02, -2.8005e-02,  7.8078e-02, -8.9683e-03, -6.6975e-01,\n",
       "                       -1.2114e-01,  3.0758e-02, -1.3254e-01,  7.2075e-02,  7.8218e-02,\n",
       "                       -4.5207e-02, -3.0179e-02,  1.6333e-01, -9.7253e-03, -2.7022e-01,\n",
       "                       -3.2727e-01, -8.0565e-02,  1.2078e-01,  1.4418e-01, -2.3160e-02,\n",
       "                        8.0202e-02, -1.1599e-01,  1.0047e-01, -3.9447e-01,  1.3732e-01,\n",
       "                       -1.2038e-02, -3.0008e-01,  1.0634e-01, -2.4442e-03, -5.0157e-01],\n",
       "                      [-2.2440e-01,  9.3877e-02,  5.6208e-02, -3.0760e-01, -8.9533e-02,\n",
       "                        5.7374e-02,  1.0934e-02,  4.4185e-02, -4.9318e-02, -1.6922e-01,\n",
       "                        4.9544e-02,  1.2750e-01,  1.7850e-01, -1.1808e-01,  8.1165e-02,\n",
       "                       -5.8520e-02,  8.7331e-02, -5.8591e-02,  1.3887e-01, -2.6562e-01,\n",
       "                        6.3502e-02, -6.9880e-02,  7.0227e-02, -1.2764e-01, -2.0403e-01,\n",
       "                       -2.2378e-01, -3.3188e-02,  4.2425e-02, -2.1672e-02, -1.5349e-01,\n",
       "                        6.4012e-02,  8.1686e-02,  4.6759e-03,  4.1888e-02,  3.7832e-02,\n",
       "                        1.9036e-01, -2.6022e-01,  6.6894e-02, -2.3857e-04,  7.5375e-02,\n",
       "                       -2.2974e-01,  1.4944e-01,  1.0886e-01,  1.6497e-01,  4.2114e-02,\n",
       "                       -9.6633e-02,  1.6154e-03,  9.7816e-02, -4.8633e-01, -2.2528e-01,\n",
       "                       -2.1563e-01,  3.6672e-02,  1.9483e-02,  1.0319e-01, -1.1738e-01,\n",
       "                       -2.0990e-01, -9.4018e-02,  2.9332e-02,  9.8288e-03,  5.5774e-02,\n",
       "                       -1.8706e-01,  1.2309e-01,  1.1903e-01, -3.9466e-01,  9.3817e-02,\n",
       "                       -2.7834e-01,  6.1109e-02, -9.3493e-02, -2.8209e-02, -1.1306e-01,\n",
       "                        5.9478e-02, -3.6070e-02, -2.4851e-01, -3.6968e-02,  2.9416e-02,\n",
       "                        5.2283e-02, -8.8562e-03,  1.3804e-01, -5.4362e-02, -1.9948e-01,\n",
       "                       -2.3452e-01, -1.1548e-01, -3.6504e-01, -4.9200e-02,  9.2312e-02,\n",
       "                        7.4567e-02, -1.6342e-01,  1.2246e-01, -3.4736e-01, -8.7081e-02,\n",
       "                        7.6554e-02,  6.0337e-02, -2.6458e-02, -1.3472e-01, -2.7158e-01,\n",
       "                       -8.8048e-02, -1.2392e-02, -1.8483e-01, -1.3522e-01,  7.9092e-02],\n",
       "                      [-1.4637e-01, -1.4124e-01,  1.4104e-01,  8.5643e-02, -7.8602e-02,\n",
       "                        2.7231e-02,  1.0248e-01,  3.8655e-03, -4.0421e-02,  5.2867e-02,\n",
       "                        5.3994e-02, -1.2958e-01, -2.5785e-01,  2.6345e-02, -3.1410e-01,\n",
       "                       -9.8069e-02, -1.5736e-01,  3.9250e-02, -4.6173e-02, -6.5066e-02,\n",
       "                       -1.0409e-01, -1.5215e-01, -1.2989e-01,  8.1127e-02,  1.5016e-01,\n",
       "                       -3.5778e-01, -2.1433e-01,  1.0344e-01, -3.3132e-01, -5.6353e-02,\n",
       "                       -1.0607e-01, -2.8575e-01, -3.5261e-03,  8.0001e-02, -7.2690e-02,\n",
       "                       -1.9316e-02,  2.8529e-02, -1.1919e-01,  2.1009e-02, -2.4294e-01,\n",
       "                        6.0863e-02,  5.6396e-03, -1.6065e-01, -1.9788e-01, -1.5805e-02,\n",
       "                       -1.3663e-01,  7.2368e-02, -1.0549e-01, -2.0209e-01, -1.9221e-01,\n",
       "                       -3.4097e-01, -7.7396e-02,  3.3499e-02, -2.4794e-02,  1.1765e-01,\n",
       "                        3.6771e-02,  3.5990e-02,  3.6365e-02, -9.2866e-02, -1.1481e-01,\n",
       "                       -8.6986e-02,  4.6221e-03, -6.6994e-02,  9.1863e-02, -1.0178e-01,\n",
       "                        4.2585e-02,  1.0036e-01, -9.8709e-02,  1.0199e-01, -1.6765e-02,\n",
       "                        5.5671e-02,  6.1504e-02,  1.0007e-01, -2.8899e-02, -6.6750e-02,\n",
       "                        4.6552e-02, -3.5067e-03,  2.1673e-02,  1.0241e-01,  1.7517e-01,\n",
       "                        5.1664e-02,  1.0942e-01, -7.7588e-02, -1.0981e-01, -4.5671e-02,\n",
       "                        4.4626e-02,  3.3670e-02,  1.9636e-02,  1.1436e-01, -1.5860e-01,\n",
       "                        1.3168e-01,  9.7525e-03, -1.5254e-01, -2.5965e-01, -1.2378e-01,\n",
       "                       -6.4447e-02,  2.6783e-02, -1.0901e-01, -6.0074e-02,  4.9433e-02],\n",
       "                      [-1.1842e-01, -1.0052e-01,  9.9316e-02, -5.8522e-02, -6.3957e-03,\n",
       "                       -1.8412e-01, -3.6419e-02,  5.7464e-03, -1.2218e-01, -1.5953e-01,\n",
       "                        4.1216e-02,  9.5662e-02, -1.0287e-02, -4.9453e-02, -7.3203e-03,\n",
       "                        3.4199e-03, -4.9686e-02,  6.1122e-02, -1.1616e-01, -1.4062e-01,\n",
       "                        1.0787e-01,  1.1970e-01, -1.1557e-01,  4.1977e-02,  7.6580e-02,\n",
       "                       -1.1628e-02,  4.4558e-02, -3.7930e-02,  4.6534e-02, -1.1409e-01,\n",
       "                        5.0953e-02,  1.0294e-01, -7.4555e-02, -2.0452e-01, -3.1048e-01,\n",
       "                       -4.9024e-01, -2.4242e-01, -2.9640e-01, -3.9054e-02,  9.5401e-02,\n",
       "                       -2.0230e-02,  1.4456e-01, -3.3099e-02, -1.4555e-01, -2.6105e-01,\n",
       "                       -2.2485e-02, -2.2348e-01, -1.6421e-01, -1.0486e-01,  4.8100e-02,\n",
       "                        1.2099e-02, -4.1044e-02, -1.7085e-02, -2.0122e-01,  1.3298e-01,\n",
       "                        2.6022e-02,  1.2356e-01, -7.2749e-02,  6.8067e-03,  7.4409e-02,\n",
       "                       -2.3293e-01,  7.8621e-02,  4.3505e-02, -2.3852e-02, -8.6752e-02,\n",
       "                       -2.6811e-02, -2.9473e-01, -1.5566e-01,  1.0222e-01, -1.6967e-01,\n",
       "                       -7.6979e-03, -5.6707e-02, -1.0955e-01, -1.2693e-01,  1.4776e-02,\n",
       "                       -5.6703e-02, -7.9089e-02, -1.1429e-01, -1.4968e-01, -1.4651e-01,\n",
       "                        2.3242e-02, -3.7394e-01, -1.1855e-01, -2.2400e-01,  7.9103e-02,\n",
       "                       -2.2917e-01,  7.5094e-02, -5.3828e-02, -2.1295e-01, -6.3576e-02,\n",
       "                        4.9248e-02,  8.4087e-02, -7.3525e-03,  1.3641e-01,  1.0321e-01,\n",
       "                       -7.8475e-02,  8.0923e-02,  1.4960e-01, -1.3862e-01,  6.5283e-02]])),\n",
       "             ('fc3.bias',\n",
       "              tensor([-0.0388, -0.2380, -0.1229, -0.1304,  0.0539,  0.0479, -0.0511, -0.1823,\n",
       "                       0.3740,  0.0718]))])"
      ]
     },
     "execution_count": 36,
     "metadata": {},
     "output_type": "execute_result"
    }
   ],
   "source": [
    "Net.state_dict()"
   ]
  },
  {
   "cell_type": "code",
   "execution_count": null,
   "metadata": {},
   "outputs": [],
   "source": [
    "torch.save(Net.state_dict(), './model.pt')"
   ]
  },
  {
   "cell_type": "code",
   "execution_count": null,
   "metadata": {},
   "outputs": [],
   "source": [
    "model = TheModelClass(*args, **kwargs)\n",
    "model.load_state_dict(torch.load(PATH))\n",
    "model.eval()"
   ]
  },
  {
   "cell_type": "code",
   "execution_count": null,
   "metadata": {},
   "outputs": [],
   "source": []
  },
  {
   "cell_type": "code",
   "execution_count": null,
   "metadata": {},
   "outputs": [],
   "source": []
  },
  {
   "cell_type": "code",
   "execution_count": null,
   "metadata": {},
   "outputs": [],
   "source": []
  },
  {
   "cell_type": "code",
   "execution_count": null,
   "metadata": {},
   "outputs": [],
   "source": []
  },
  {
   "cell_type": "code",
   "execution_count": null,
   "metadata": {},
   "outputs": [],
   "source": []
  },
  {
   "cell_type": "code",
   "execution_count": null,
   "metadata": {},
   "outputs": [],
   "source": []
  },
  {
   "cell_type": "code",
   "execution_count": null,
   "metadata": {},
   "outputs": [],
   "source": []
  }
 ],
 "metadata": {
  "kernelspec": {
   "display_name": "Python [conda env:torch37]",
   "language": "python",
   "name": "conda-env-torch37-py"
  },
  "language_info": {
   "codemirror_mode": {
    "name": "ipython",
    "version": 3
   },
   "file_extension": ".py",
   "mimetype": "text/x-python",
   "name": "python",
   "nbconvert_exporter": "python",
   "pygments_lexer": "ipython3",
   "version": "3.7.10"
  }
 },
 "nbformat": 4,
 "nbformat_minor": 4
}
