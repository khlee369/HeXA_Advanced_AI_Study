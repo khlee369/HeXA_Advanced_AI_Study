{
 "cells": [
  {
   "cell_type": "markdown",
   "metadata": {},
   "source": [
    "뭐 어떻게 해야하는거지? partial derivative, gradients가 젤 문제네..."
   ]
  },
  {
   "cell_type": "code",
   "execution_count": 124,
   "metadata": {
    "scrolled": false
   },
   "outputs": [
    {
     "data": {
      "image/png": "[encoded data removed]",
      "text/plain": [
       "<Figure size 720x432 with 1 Axes>"
      ]
     },
     "metadata": {
      "needs_background": "light"
     },
     "output_type": "display_data"
    }
   ],
   "source": [
    "import numpy as np\n",
    "import matplotlib.pyplot as plt\n",
    "from sklearn.linear_model import LinearRegression\n",
    "\n",
    "x = np.linspace(-4.5, 4.5, 10)\n",
    "y = np.array([0.9819, 0.7973, 1.9737, 0.1838, 1.3180, -0.8361, -0.6591, -2.4701, -2.8122, -6.2512])\n",
    "w = np.random.randn(3,1)\n",
    "\n",
    "cost = ((y_hat - y) ** 2).mean()\n",
    "\n",
    "# 최대 반복 횟수\n",
    "num_epoch = 5000\n",
    "\n",
    "# 학습율 (learning_rate)\n",
    "learning_rate = 0.1\n",
    "\n",
    "costs = []\n",
    "# random 한 값으로 w, b를 초기화 합니다.\n",
    "# w = np.random.uniform(low=-1.0, high=1.0)\n",
    "# b = np.random.uniform(low=-1.0, high=1.0)\n",
    "\n",
    "for epoch in range(num_epoch):\n",
    "    y_hat = w[0][0] + w[1][0] * x + w[2][0] * (x ** 2)\n",
    "    cost = ((y_hat - y) ** 2).mean()\n",
    "    \n",
    "    gradients = 2/len(w) * (y_hat - y)\n",
    "    w = w - learning_rate * gradients\n",
    "    \n",
    "    costs.append(cost)\n",
    "    \n",
    "    # if epoch % 5 == 0:\n",
    "        # print(\"{0:4} w0 = {1:.5f}, w1 = {2:.5f}, w2 = {3:.5f}, cost = {4:.5f}\".format(epoch, w[0][0], w[1][0], w[2][0], cost))\n",
    "\n",
    "X = np.arange(-4.5, 4.5, 0.1)\n",
    "Y = []\n",
    "for i in X:\n",
    "    Y.append(w[0][0] + w[1][0] * i + w[2][0] * (i ** 2))\n",
    "Y = np.array(Y)\n",
    "\n",
    "plt.figure(figsize=(10, 6))\n",
    "plt.plot(x, y, 'o')\n",
    "plt.plot(X, Y, 'r')\n",
    "plt.xlabel('x', fontsize=15)\n",
    "plt.ylabel('y', fontsize=15)\n",
    "plt.xlim(-5, 5)\n",
    "plt.ylim(-7, 3)\n",
    "plt.show()"
   ]
  },
  {
   "cell_type": "code",
   "execution_count": null,
   "metadata": {},
   "outputs": [],
   "source": []
  }
 ],
 "metadata": {
  "kernelspec": {
   "display_name": "Python 3",
   "language": "python",
   "name": "python3"
  },
  "language_info": {
   "codemirror_mode": {
    "name": "ipython",
    "version": 3
   },
   "file_extension": ".py",
   "mimetype": "text/x-python",
   "name": "python",
   "nbconvert_exporter": "python",
   "pygments_lexer": "ipython3",
   "version": "3.8.5"
  }
 },
 "nbformat": 4,
 "nbformat_minor": 4
}
